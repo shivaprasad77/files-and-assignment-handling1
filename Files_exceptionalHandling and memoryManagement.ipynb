{
  "cells": [
    {
      "cell_type": "markdown",
      "metadata": {
        "id": "ZAxQNyBaA28L"
      },
      "source": [
        "1. What is the difference between interpreted and compiled languages?\n",
        "- Interpreted languages execute code line-by-line using an interpreter (e.g., Python).\n",
        "\n",
        "- Compiled languages convert the entire code into machine code before execution (e.g., C, C++)."
      ]
    },
    {
      "cell_type": "markdown",
      "metadata": {
        "id": "o1fm9vuwBhFm"
      },
      "source": [
        "2. What is Exception Handling in Python?\n",
        "- Exception handling is a mechanism to handle runtime errors gracefully and prevent program crashes."
      ]
    },
    {
      "cell_type": "code",
      "execution_count": 1,
      "metadata": {
        "colab": {
          "base_uri": "https://localhost:8080/"
        },
        "id": "MrP9Jy0pBoYN",
        "outputId": "ba9baa60-f693-4937-df9d-80584265f31d"
      },
      "outputs": [
        {
          "name": "stdout",
          "output_type": "stream",
          "text": [
            "Cannot divide by zero!\n"
          ]
        }
      ],
      "source": [
        "try:\n",
        "    x = 10 / 0\n",
        "except ZeroDivisionError:\n",
        "    print(\"Cannot divide by zero!\")\n"
      ]
    },
    {
      "cell_type": "markdown",
      "metadata": {
        "id": "-9OSp_91Bsxd"
      },
      "source": [
        "3. What is the purpose of the finally block in exception handling?\n",
        "-  The finally block contains code that is always executed, regardless of whether an exception occurred or not—useful for cleanup.\n",
        "-\n",
        "```\n",
        "try:\n",
        "    file = open(\"data.txt\", \"r\")\n",
        "    content = file.read()\n",
        "except FileNotFoundError:\n",
        "    print(\"File not found\")\n",
        "finally:\n",
        "    file.close()  # Ensures file is closed\n",
        "```"
      ]
    },
    {
      "cell_type": "markdown",
      "metadata": {
        "id": "XpOKJtPTCS_f"
      },
      "source": [
        "4. What is logging in Python?\n",
        "- Logging is used to track events during program execution. It helps in debugging and monitoring applications.\n",
        "-\n",
        "  ```\n",
        "  import logging\n",
        "logging.basicConfig(level=logging.INFO)\n",
        "logging.info(\"Program started\")\n",
        "```"
      ]
    },
    {
      "cell_type": "markdown",
      "metadata": {
        "id": "2eX4_DEwC0zJ"
      },
      "source": [
        "5. What is the significance of the __del__ method in Python?\n",
        "- __del__ is a destructor method called when an object is about to be destroyed. It's used for cleanup operations.\n",
        "-\n",
        "  ```\n",
        "  class Demo:\n",
        "    def __del__(self):\n",
        "        print(\"Object destroyed\")\n",
        "obj = Demo()\n",
        "del obj\n",
        "```"
      ]
    },
    {
      "cell_type": "markdown",
      "metadata": {
        "id": "yidJBwLiDBVr"
      },
      "source": [
        "6. What is the difference between import and from ... import in Python0\n",
        "- import imports the entire module.\n",
        "\n",
        "- from ... import imports specific items from a module.\n",
        "-\n",
        "  ```\n",
        "  import math\n",
        "print(math.sqrt(16))  # Access via module\n",
        "from math import sqrt\n",
        "print(sqrt(16))       # Direct access\n",
        "```"
      ]
    },
    {
      "cell_type": "markdown",
      "metadata": {
        "id": "0K325Ot9DlAx"
      },
      "source": [
        "7. How can you handle multiple exceptions in Python?\n",
        "- You can handle multiple exceptions using multiple except blocks or a tuple of exceptions.\n",
        "-\n",
        "  ```\n",
        "  try:\n",
        "    x = int(\"abc\")\n",
        "except (ValueError, TypeError) as e:\n",
        "    print(\"Error:\", e)\n",
        "```"
      ]
    },
    {
      "cell_type": "markdown",
      "metadata": {
        "id": "j42S3ueCD0-P"
      },
      "source": [
        "8. What is the purpose of the with statement when handling files in Python?\n",
        "- with ensures proper acquisition and release of resources like files. It automatically closes the file even if exceptions occur.\n",
        "-\n",
        "  ```\n",
        "  with open(\"data.txt\", \"r\") as file:\n",
        "    content = file.read()\n",
        "  ```"
      ]
    },
    {
      "cell_type": "markdown",
      "metadata": {
        "id": "u2KZy4tdEEt7"
      },
      "source": [
        "9.  What is the difference between multithreading and multiprocessing?\n",
        "- Multithreading: Multiple threads run in the same process (shared memory).\n",
        "\n",
        "- Multiprocessing: Multiple processes run independently (separate memory).\n",
        "-\n",
        "  ```\n",
        "  from threading import Thread\n",
        "  from multiprocessing import Process\n",
        "```"
      ]
    },
    {
      "cell_type": "markdown",
      "metadata": {
        "id": "UQc-jqMAEZpL"
      },
      "source": [
        "10. What are the advantages of using logging in a program?\n",
        "- Helps in debugging and tracing program execution.\n",
        "\n",
        "- Enables persistent record-keeping.\n",
        "\n",
        "- Allows different logging levels (DEBUG, INFO, WARNING, etc.).\n",
        "-\n",
        "  ```\n",
        "  logging.warning(\"Disk space low\")\n",
        "  ```"
      ]
    },
    {
      "cell_type": "markdown",
      "metadata": {
        "id": "TmkUoE71Ev8V"
      },
      "source": [
        "11. What is memory management in Python?\n",
        "- Python uses automatic memory management using reference counting and garbage collection.\n",
        "-\n",
        "  ```\n",
        "  import gc\n",
        "gc.collect()  # Manually trigger garbage collector\n",
        "  ```"
      ]
    },
    {
      "cell_type": "markdown",
      "metadata": {
        "id": "eL1OKfCoE-eG"
      },
      "source": [
        "12. What are the basic steps involved in exception handling in Python?\n",
        "- try: Code that may raise an exception.\n",
        "\n",
        "- except: Handle the exception.\n",
        "\n",
        "- else: Runs if no exception occurs.\n",
        "\n",
        "- finally: Executes regardless of exceptions.\n",
        "-\n",
        "  ```\n",
        "  try:\n",
        "    x = int(input(\"Enter number: \"))\n",
        "except ValueError:\n",
        "    print(\"Invalid input\")\n",
        "else:\n",
        "    print(\"Success!\")\n",
        "finally:\n",
        "    print(\"Execution done\")\n",
        "  ```"
      ]
    },
    {
      "cell_type": "markdown",
      "metadata": {
        "id": "0NJ6RfuVFNlJ"
      },
      "source": [
        "13.  Why is memory management important in Python?\n",
        "- Memory management ensures efficient use of memory resources, prevents memory leaks, and improves performance. In Python, it helps in:\n",
        "\n",
        "- Automatic deallocation of unused objects.\n",
        "\n",
        "- Preventing crashes due to memory overuse.\n",
        "\n",
        "- Handling large data structures efficiently\n",
        "-\n",
        "  ```\n",
        "  import gc\n",
        "gc.collect()  # Triggers garbage collection\n",
        "```"
      ]
    },
    {
      "cell_type": "markdown",
      "metadata": {
        "id": "Oh2d12KxFlRS"
      },
      "source": [
        "14. What is the role of try and except in exception handling?\n",
        "- The try block allows you to test a block of code for errors, and except handles the error gracefully if one occurs.\n",
        "\n",
        "     - Prevents program crashes.\n",
        "\n",
        "     - Allows custom error messages and fallback logic.\n",
        "-\n",
        "  ```\n",
        "  try:\n",
        "    result = 10 / 0\n",
        "except ZeroDivisionError:\n",
        "    print(\"Cannot divide by zero!\")\n",
        " ```"
      ]
    },
    {
      "cell_type": "markdown",
      "metadata": {
        "id": "ndVvCThaF1Lo"
      },
      "source": [
        "15. How does Python's garbage collection system work?\n",
        "Python uses reference counting as the primary memory management technique, and garbage collection to remove cycles:\n",
        "\n",
        "   - Each object has a reference count.\n",
        "\n",
        "   - When the count reaches zero, memory is freed.\n",
        "\n",
        "   - The gc module handles cyclic references.\n",
        "-\n",
        "  ```\n",
        "  import gc\n",
        "gc.collect()  # Cleans up unreachable objects\n",
        " ```"
      ]
    },
    {
      "cell_type": "markdown",
      "metadata": {
        "id": "cenKiFMuGLJA"
      },
      "source": [
        "16. What is the purpose of the else block in exception handling?\n",
        "- The else block runs only if no exception is raised in the try block. It separates error-free logic from error-handling code.\n",
        "-\n",
        "  ```\n",
        "  try:\n",
        "    x = int(\"5\")\n",
        "except ValueError:\n",
        "    print(\"Invalid input\")\n",
        "else:\n",
        "    print(\"Conversion successful:\", x)\n",
        "```"
      ]
    },
    {
      "cell_type": "markdown",
      "metadata": {
        "id": "EecPPyyECD62"
      },
      "source": [
        "17. What are the common logging levels in Python?\n",
        "- Logging levels indicate the severity of events:\n",
        "\n",
        "   - DEBUG: Detailed information (lowest level).\n",
        "\n",
        "   - INFO: Confirmation that things are working.\n",
        "\n",
        "   - WARNING: Something unexpected happened.\n",
        "\n",
        "   - ERROR: Serious problem that prevents some functionality.\n",
        "\n",
        "   - CRITICAL: Severe error causing program crash.\n",
        "-\n",
        "```\n",
        "import logging\n",
        "logging.basicConfig(level=logging.DEBUG)\n",
        "logging.debug(\"This is a debug message\")\n",
        "```\n"
      ]
    },
    {
      "cell_type": "markdown",
      "metadata": {
        "id": "inu1Bvk5Gq2M"
      },
      "source": [
        "18. What is the difference between os.fork() and multiprocessing in Python?\n",
        "- os.fork(): Unix-only system call to create a child process by duplicating the current process.\n",
        "\n",
        "- multiprocessing: Cross-platform Python module for process-based parallelism.\n",
        "-\n",
        "  ```\n",
        "  from multiprocessing import Process\n",
        "def task():\n",
        "    print(\"Child process\")\n",
        "p = Process(target=task)\n",
        "p.start()\n",
        "```"
      ]
    },
    {
      "cell_type": "markdown",
      "metadata": {
        "id": "Vv3mb1meHFPz"
      },
      "source": [
        "19.  What is the importance of closing a file in Python?\n",
        "- Closing a file:\n",
        "\n",
        "  -  Frees up system resources.\n",
        "\n",
        "  - Flushes data from buffer to disk.\n",
        "\n",
        "  -  Prevents file corruption or data loss.\n",
        "-\n",
        "  ```\n",
        "  file = open(\"data.txt\", \"r\")\n",
        "  # Do something\n",
        "  file.close()\n",
        " ```\n",
        "-\n",
        "  ```\n",
        "  with open(\"data.txt\", \"r\") as file:\n",
        "    data = file.read()\n",
        "    ```"
      ]
    },
    {
      "cell_type": "markdown",
      "metadata": {
        "id": "pdWzAcVQHc0N"
      },
      "source": [
        "20.  What is the difference between file.read() and file.readline() in Python?\n",
        "- file.read(): Reads the entire file as a single string.\n",
        "\n",
        "- file.readline(): Reads one line at a time.\n",
        "-\n",
        "  ```\n",
        "  with open(\"data.txt\", \"r\") as f:\n",
        "    print(f.read())        # Entire file\n",
        "    f.seek(0)              # Reset pointer\n",
        "    print(f.readline())    # First line only\n",
        "  ```"
      ]
    },
    {
      "cell_type": "markdown",
      "metadata": {
        "id": "pgh3IlLmHqz-"
      },
      "source": [
        "21. What is the logging module in Python used for?\n",
        "- The logging module provides a way to track events that happen when software runs. It is used to:\n",
        "\n",
        "  -  Record info/errors in files.\n",
        "\n",
        "  -  Diagnose problems.\n",
        "\n",
        "  -  Replace print statements for scalable debugging.\n",
        "-\n",
        "  ```\n",
        "  import logging\n",
        "logging.basicConfig(filename=\"app.log\", level=logging.INFO)\n",
        "logging.info(\"App started\")\n",
        "```"
      ]
    },
    {
      "cell_type": "markdown",
      "metadata": {
        "id": "wM63CaSRH7VA"
      },
      "source": [
        "22.  What is the os module in Python used for in file handling?\n",
        "- The os module interacts with the operating system. In file handling, it helps with:\n",
        "\n",
        "   - File creation/deletion.\n",
        "\n",
        "   - Directory operations.\n",
        "\n",
        "   - Path manipulations.\n",
        "-\n",
        "    ```\n",
        "import os\n",
        "os.remove(\"old_file.txt\")\n",
        "os.mkdir(\"new_folder\")\n",
        "```"
      ]
    },
    {
      "cell_type": "markdown",
      "metadata": {
        "id": "nQ8w8sWlIPzH"
      },
      "source": [
        "23. What are the challenges associated with memory management in Python?\n",
        "-  Reference cycles: Objects referencing each other may not be freed.\n",
        "\n",
        "-  High memory usage: Dynamic typing and object overhead.\n",
        "\n",
        "- Manual control: Limited compared to lower-level languages.\n",
        "-\n",
        "  ```\n",
        "  class Node:\n",
        "    def __init__(self):\n",
        "        self.ref = self\n",
        "```"
      ]
    },
    {
      "cell_type": "markdown",
      "metadata": {
        "id": "Av67YsUEIb4m"
      },
      "source": [
        "24.  How do you raise an exception manually in Python?\n",
        "- Use the raise keyword to throw an exception manually.\n",
        "-\n",
        "  ```\n",
        "    age = -1\n",
        "    if age < 0:\n",
        "        raise ValueError(\"Age cannot be negative\")\n",
        "  ```\n"
      ]
    },
    {
      "cell_type": "markdown",
      "metadata": {
        "id": "ZvrTCZeVI4Fm"
      },
      "source": [
        "25. Why is it important to use multithreading in certain applications?\n",
        "- Multithreading is useful when:\n",
        "\n",
        "  -  Performing I/O-bound operations (file reading, web scraping).\n",
        "\n",
        "  -  Need to keep the UI responsive.\n",
        "\n",
        "  -  Reducing idle time during waits.\n",
        "-\n",
        "  ```\n",
        "  from threading import Thread\n",
        "  def task():\n",
        "      print(\"Running in thread\")\n",
        "  t = Thread(target=task)\n",
        "  t.start()\n",
        "```"
      ]
    },
    {
      "cell_type": "markdown",
      "metadata": {
        "id": "VLpuWI1GJIh3"
      },
      "source": [
        "# Practical Questions"
      ]
    },
    {
      "cell_type": "markdown",
      "metadata": {
        "id": "jH7dXRsdJOWd"
      },
      "source": [
        "1. How can you open a file for writing in Python and write a string to it?"
      ]
    },
    {
      "cell_type": "code",
      "execution_count": 1,
      "metadata": {},
      "outputs": [],
      "source": [
        "# Open the file in write mode\n",
        "with open(\"example.txt\", \"w\") as file:\n",
        "    file.write(\"Hello, this is a test file.\")\n"
      ]
    },
    {
      "cell_type": "markdown",
      "metadata": {},
      "source": [
        "2.  Write a Python program to read the contents of a file and print each line?\n"
      ]
    },
    {
      "cell_type": "code",
      "execution_count": 2,
      "metadata": {},
      "outputs": [
        {
          "name": "stdout",
          "output_type": "stream",
          "text": [
            "Hello, this is a test file.\n"
          ]
        }
      ],
      "source": [
        "# Open the file in read mode\n",
        "with open(\"example.txt\", \"r\") as file:\n",
        "    # Loop through each line in the file\n",
        "    for line in file:\n",
        "        print(line.strip())  # strip() removes extra newlines\n"
      ]
    },
    {
      "cell_type": "markdown",
      "metadata": {},
      "source": [
        "3.  How would you handle a case where the file doesn't exist while trying to open it for reading?\n",
        "- To handle a case where the file doesn't exist while trying to open it for reading, you can use exception handling with a try-except block to catch the FileNotFoundError.\n",
        "\n"
      ]
    },
    {
      "cell_type": "code",
      "execution_count": 3,
      "metadata": {},
      "outputs": [
        {
          "name": "stdout",
          "output_type": "stream",
          "text": [
            "Error: The file does not exist.\n"
          ]
        }
      ],
      "source": [
        "try:\n",
        "    with open(\"nonexistent_file.txt\", \"r\") as file:\n",
        "        content = file.read()\n",
        "        print(content)\n",
        "except FileNotFoundError:\n",
        "    print(\"Error: The file does not exist.\")\n"
      ]
    },
    {
      "cell_type": "markdown",
      "metadata": {},
      "source": [
        "4. Write a Python script that reads from one file and writes its content to another file?"
      ]
    },
    {
      "cell_type": "code",
      "execution_count": 5,
      "metadata": {},
      "outputs": [
        {
          "name": "stdout",
          "output_type": "stream",
          "text": [
            "Content copied from 'example.txt' to 'destination.txt' successfully.\n"
          ]
        }
      ],
      "source": [
        "# File paths\n",
        "source_file = \"example.txt\"\n",
        "destination_file = \"destination.txt\"\n",
        "\n",
        "try:\n",
        "    # Open source file in read mode\n",
        "    with open(source_file, \"r\") as src:\n",
        "        content = src.read()  # Read the entire content\n",
        "\n",
        "    # Open destination file in write mode\n",
        "    with open(destination_file, \"w\") as dest:\n",
        "        dest.write(content)  # Write content to destination\n",
        "\n",
        "    print(f\"Content copied from '{source_file}' to '{destination_file}' successfully.\")\n",
        "\n",
        "except FileNotFoundError:\n",
        "    print(f\"Error: The file '{source_file}' does not exist.\")\n",
        "except Exception as e:\n",
        "    print(f\"An error occurred: {e}\")\n"
      ]
    },
    {
      "cell_type": "markdown",
      "metadata": {},
      "source": [
        "5.  How would you catch and handle division by zero error in Python?\n",
        "- To catch and handle a division by zero error in Python, you use a try-except block and specifically catch the ZeroDivisionError."
      ]
    },
    {
      "cell_type": "code",
      "execution_count": 6,
      "metadata": {},
      "outputs": [
        {
          "name": "stdout",
          "output_type": "stream",
          "text": [
            "Result: 5.0\n",
            "Division attempt complete.\n"
          ]
        }
      ],
      "source": [
        "try:\n",
        "    num = 10\n",
        "    denom = 2\n",
        "    result = num / denom\n",
        "except ZeroDivisionError:\n",
        "    print(\"Cannot divide by zero.\")\n",
        "else:\n",
        "    print(\"Result:\", result)\n",
        "finally:\n",
        "    print(\"Division attempt complete.\")\n"
      ]
    },
    {
      "cell_type": "markdown",
      "metadata": {},
      "source": [
        "6. Write a Python program that logs an error message to a log file when a division by zero exception occurs"
      ]
    },
    {
      "cell_type": "code",
      "execution_count": 7,
      "metadata": {},
      "outputs": [
        {
          "name": "stdout",
          "output_type": "stream",
          "text": [
            "An error occurred. Check 'error_log.txt' for details.\n"
          ]
        }
      ],
      "source": [
        "import logging\n",
        "\n",
        "# Configure the logging\n",
        "logging.basicConfig(\n",
        "    filename='error_log.txt',     # Log file name\n",
        "    level=logging.ERROR,          # Log only ERROR and above\n",
        "    format='%(asctime)s - %(levelname)s - %(message)s'\n",
        ")\n",
        "\n",
        "try:\n",
        "    a = 10\n",
        "    b = 0\n",
        "    result = a / b\n",
        "except ZeroDivisionError as e:\n",
        "    logging.error(\"Division by zero error occurred: %s\", e)\n",
        "    print(\"An error occurred. Check 'error_log.txt' for details.\")\n"
      ]
    },
    {
      "cell_type": "markdown",
      "metadata": {},
      "source": [
        "7. How do you log information at different levels (INFO, ERROR, WARNING) in Python using the logging module?\n",
        "- In Python, you can log messages at different severity levels using the built-in logging module. The most commonly used levels are:\n",
        "\n",
        "   -     DEBUG – Detailed information for debugging.\n",
        " \n",
        "   -     INFO – General events to confirm things are working.\n",
        "\n",
        "   -     WARNING – An indication of potential issues.\n",
        "\n",
        "   -     ERROR – A more serious problem, the program may still run.\n",
        "\n",
        "   -     CRITICAL – A very serious error; the program might stop."
      ]
    },
    {
      "cell_type": "code",
      "execution_count": 9,
      "metadata": {},
      "outputs": [],
      "source": [
        "import logging\n",
        "\n",
        "# Configure logging\n",
        "logging.basicConfig(\n",
        "    filename='example.txt',       # Log file name\n",
        "    level=logging.DEBUG,          # Capture all levels from DEBUG and above\n",
        "    format='%(asctime)s - %(levelname)s - %(message)s'\n",
        ")\n",
        "\n",
        "# Logging messages\n",
        "logging.debug(\"This is a DEBUG message.\")\n",
        "logging.info(\"This is an INFO message.\")\n",
        "logging.warning(\"This is a WARNING message.\")\n",
        "logging.error(\"This is an ERROR message.\")\n",
        "logging.critical(\"This is a CRITICAL message.\")\n"
      ]
    },
    {
      "cell_type": "markdown",
      "metadata": {},
      "source": [
        "8. Write a program to handle a file opening error using exception handling?"
      ]
    },
    {
      "cell_type": "code",
      "execution_count": 12,
      "metadata": {},
      "outputs": [
        {
          "name": "stdout",
          "output_type": "stream",
          "text": [
            "Error: The file 'nonexistent_file.txt' does not exist.\n"
          ]
        }
      ],
      "source": [
        "filename = \"nonexistent_file.txt\"\n",
        "\n",
        "try:\n",
        "    with open(filename, \"r\") as file:\n",
        "        content = file.read()\n",
        "        print(\"File content:\\n\", content)\n",
        "except FileNotFoundError:\n",
        "    print(f\"Error: The file '{filename}' does not exist.\")\n",
        "except PermissionError:\n",
        "    print(f\"Error: You do not have permission to access '{filename}'.\")\n",
        "except Exception as e:\n",
        "    print(f\"An unexpected error occurred: {e}\")\n"
      ]
    },
    {
      "cell_type": "markdown",
      "metadata": {},
      "source": [
        "9.  How can you read a file line by line and store its content in a list in Python?"
      ]
    },
    {
      "cell_type": "code",
      "execution_count": 14,
      "metadata": {},
      "outputs": [
        {
          "name": "stdout",
          "output_type": "stream",
          "text": [
            "Lines stored in a list: ['Hello, this is a test file.']\n"
          ]
        }
      ],
      "source": [
        "filename = \"destination.txt\"\n",
        "\n",
        "try:\n",
        "    with open(filename, \"r\") as file:\n",
        "        lines = [line.strip() for line in file]  # Removes \\n from each line\n",
        "    print(\"Lines stored in a list:\", lines)\n",
        "except FileNotFoundError:\n",
        "    print(f\"Error: The file '{filename}' was not found.\")\n"
      ]
    },
    {
      "cell_type": "markdown",
      "metadata": {},
      "source": [
        "10.  How can you append data to an existing file in Python?"
      ]
    },
    {
      "cell_type": "code",
      "execution_count": 15,
      "metadata": {},
      "outputs": [],
      "source": [
        "# Open the file in append mode\n",
        "with open(\"example.txt\", \"a\") as file:\n",
        "    file.write(\"\\nThis line is appended to the file.\")\n"
      ]
    },
    {
      "cell_type": "markdown",
      "metadata": {},
      "source": [
        "11. Write a Python program that uses a try-except block to handle an error when attempting to access a\n",
        "dictionary key that doesn't exist.\n"
      ]
    },
    {
      "cell_type": "code",
      "execution_count": 16,
      "metadata": {},
      "outputs": [
        {
          "name": "stdout",
          "output_type": "stream",
          "text": [
            "Error: 'Eve' key does not exist in the dictionary.\n"
          ]
        }
      ],
      "source": [
        "# Sample dictionary\n",
        "student_scores = {\n",
        "    \"Alice\": 85,\n",
        "    \"Bob\": 90,\n",
        "    \"Charlie\": 78\n",
        "}\n",
        "\n",
        "# Attempt to access a key\n",
        "try:\n",
        "    print(\"Eve's score is:\", student_scores[\"Eve\"])\n",
        "except KeyError:\n",
        "    print(\"Error: 'Eve' key does not exist in the dictionary.\")\n"
      ]
    },
    {
      "cell_type": "markdown",
      "metadata": {},
      "source": [
        "12.  Write a program that demonstrates using multiple except blocks to handle different types of exceptions"
      ]
    },
    {
      "cell_type": "code",
      "execution_count": 19,
      "metadata": {},
      "outputs": [
        {
          "name": "stdout",
          "output_type": "stream",
          "text": [
            "File content: Hello, this is a test file.\n",
            "This line is appended to the file.\n",
            "Result: 2.0\n"
          ]
        }
      ],
      "source": [
        "try:\n",
        "    filename = input(\"Enter file name: \")\n",
        "    with open(filename, \"r\") as file:\n",
        "        content = file.read()\n",
        "        print(\"File content:\", content)\n",
        "\n",
        "    number = int(input(\"Enter a number to divide 100 by: \"))\n",
        "    result = 100 / number\n",
        "    print(\"Result:\", result)\n",
        "\n",
        "except FileNotFoundError:\n",
        "    print(\"Error: The file was not found.\")\n",
        "except ValueError:\n",
        "    print(\"Error: Invalid input! Please enter a numeric value.\")\n",
        "except ZeroDivisionError:\n",
        "    print(\"Error: Cannot divide by zero.\")\n",
        "except Exception as e:\n",
        "    print(\"An unexpected error occurred:\", e)\n"
      ]
    },
    {
      "cell_type": "markdown",
      "metadata": {},
      "source": [
        "13.  How would you check if a file exists before attempting to read it in Python?\n"
      ]
    },
    {
      "cell_type": "code",
      "execution_count": 20,
      "metadata": {},
      "outputs": [
        {
          "name": "stdout",
          "output_type": "stream",
          "text": [
            "File content: Hello, this is a test file.\n",
            "This line is appended to the file.\n"
          ]
        }
      ],
      "source": [
        "import os\n",
        "\n",
        "filename = \"example.txt\"\n",
        "\n",
        "if os.path.exists(filename):\n",
        "    with open(filename, \"r\") as file:\n",
        "        content = file.read()\n",
        "        print(\"File content:\", content)\n",
        "else:\n",
        "    print(f\"Error: The file '{filename}' does not exist.\")\n"
      ]
    },
    {
      "cell_type": "markdown",
      "metadata": {},
      "source": [
        "14. Write a program that uses the logging module to log both informational and error messages."
      ]
    },
    {
      "cell_type": "code",
      "execution_count": 21,
      "metadata": {},
      "outputs": [],
      "source": [
        "import logging\n",
        "\n",
        "# Configure logging\n",
        "logging.basicConfig(\n",
        "    filename='app.log',            # Log file name\n",
        "    level=logging.INFO,            # Minimum level to capture\n",
        "    format='%(asctime)s - %(levelname)s - %(message)s'\n",
        ")\n",
        "\n",
        "# Log an informational message\n",
        "logging.info(\"Program started successfully.\")\n",
        "\n",
        "try:\n",
        "    a = 10\n",
        "    b = 0\n",
        "    result = a / b\n",
        "    logging.info(\"Division result: %s\", result)\n",
        "except ZeroDivisionError as e:\n",
        "    logging.error(\"Error occurred: Division by zero. Details: %s\", e)\n",
        "\n",
        "logging.info(\"Program finished.\")\n"
      ]
    },
    {
      "cell_type": "markdown",
      "metadata": {},
      "source": [
        "15.  Write a Python program that prints the content of a file and handles the case when the file is empty."
      ]
    },
    {
      "cell_type": "code",
      "execution_count": 22,
      "metadata": {},
      "outputs": [
        {
          "name": "stdout",
          "output_type": "stream",
          "text": [
            "File content:\n",
            "Hello, this is a test file.\n",
            "This line is appended to the file.\n"
          ]
        }
      ],
      "source": [
        "filename = \"example.txt\"\n",
        "\n",
        "try:\n",
        "    with open(filename, \"r\") as file:\n",
        "        content = file.read()\n",
        "\n",
        "        if content.strip() == \"\":\n",
        "            print(f\"The file '{filename}' is empty.\")\n",
        "        else:\n",
        "            print(\"File content:\")\n",
        "            print(content)\n",
        "\n",
        "except FileNotFoundError:\n",
        "    print(f\"Error: The file '{filename}' was not found.\")\n",
        "except Exception as e:\n",
        "    print(f\"An error occurred: {e}\")\n"
      ]
    },
    {
      "cell_type": "markdown",
      "metadata": {},
      "source": [
        "16.  Demonstrate how to use memory profiling to check the memory usage of a small program?"
      ]
    },
    {
      "cell_type": "code",
      "execution_count": 23,
      "metadata": {},
      "outputs": [
        {
          "name": "stdout",
          "output_type": "stream",
          "text": [
            "\n",
            "Note: you may need to restart the kernel to use updated packages.\n"
          ]
        },
        {
          "name": "stderr",
          "output_type": "stream",
          "text": [
            "\n",
            "CondaError: Run 'conda init' before 'conda activate'\n",
            "\n"
          ]
        }
      ],
      "source": [
        "conda activate your_env_name"
      ]
    },
    {
      "cell_type": "code",
      "execution_count": 1,
      "metadata": {},
      "outputs": [
        {
          "name": "stdout",
          "output_type": "stream",
          "text": [
            "Collecting memory-profiler\n",
            "  Downloading memory_profiler-0.61.0-py3-none-any.whl.metadata (20 kB)\n",
            "Requirement already satisfied: psutil in c:\\users\\anish\\anaconda3\\envs\\pandas_env\\lib\\site-packages (from memory-profiler) (5.9.0)\n",
            "Downloading memory_profiler-0.61.0-py3-none-any.whl (31 kB)\n",
            "Installing collected packages: memory-profiler\n",
            "Successfully installed memory-profiler-0.61.0\n",
            "Note: you may need to restart the kernel to use updated packages.\n"
          ]
        }
      ],
      "source": [
        "pip install memory-profiler\n"
      ]
    },
    {
      "cell_type": "code",
      "execution_count": 1,
      "metadata": {},
      "outputs": [
        {
          "name": "stdout",
          "output_type": "stream",
          "text": [
            "ERROR: Could not find file C:\\Users\\anish\\AppData\\Local\\Temp\\ipykernel_23104\\2926070684.py\n",
            "Generating large list...\n",
            "Total: 333332833333500000\n"
          ]
        }
      ],
      "source": [
        "from memory_profiler import profile\n",
        "\n",
        "@profile\n",
        "def create_large_list():\n",
        "    print(\"Generating large list...\")\n",
        "    numbers = [i**2 for i in range(1000000)]\n",
        "    return sum(numbers)\n",
        "\n",
        "if __name__ == \"__main__\":\n",
        "    total = create_large_list()\n",
        "    print(\"Total:\", total)\n"
      ]
    },
    {
      "cell_type": "markdown",
      "metadata": {},
      "source": [
        "17. Write a Python program to create and write a list of numbers to a file, one number per line?\n"
      ]
    },
    {
      "cell_type": "code",
      "execution_count": 2,
      "metadata": {},
      "outputs": [
        {
          "name": "stdout",
          "output_type": "stream",
          "text": [
            "Successfully written numbers to 'numbers.txt'.\n"
          ]
        }
      ],
      "source": [
        "# Create a list of numbers\n",
        "numbers = [10, 20, 30, 40, 50]\n",
        "\n",
        "# File to write to\n",
        "filename = \"numbers.txt\"\n",
        "\n",
        "try:\n",
        "    with open(filename, \"w\") as file:\n",
        "        for number in numbers:\n",
        "            file.write(f\"{number}\\n\")  # Write each number followed by a newline\n",
        "    print(f\"Successfully written numbers to '{filename}'.\")\n",
        "except Exception as e:\n",
        "    print(f\"An error occurred: {e}\")\n"
      ]
    },
    {
      "cell_type": "markdown",
      "metadata": {},
      "source": [
        "18. How would you implement a basic logging setup that logs to a file with rotation after 1MB?"
      ]
    },
    {
      "cell_type": "code",
      "execution_count": 3,
      "metadata": {},
      "outputs": [],
      "source": [
        "import logging\n",
        "from logging.handlers import RotatingFileHandler\n",
        "\n",
        "# Create a rotating file handler\n",
        "log_file = \"app.log\"\n",
        "\n",
        "handler = RotatingFileHandler(\n",
        "    log_file,\n",
        "    maxBytes=1 * 1024 * 1024,  # 1 MB\n",
        "    backupCount=3              # Keep up to 3 old log files\n",
        ")\n",
        "\n",
        "# Set logging format\n",
        "formatter = logging.Formatter('%(asctime)s - %(levelname)s - %(message)s')\n",
        "handler.setFormatter(formatter)\n",
        "\n",
        "# Set up logger\n",
        "logger = logging.getLogger()\n",
        "logger.setLevel(logging.INFO)\n",
        "logger.addHandler(handler)\n",
        "\n",
        "# Example logs to fill up the file\n",
        "for i in range(10000):\n",
        "    logger.info(f\"This is log message number {i}\")\n"
      ]
    },
    {
      "cell_type": "markdown",
      "metadata": {},
      "source": [
        "19. Write a program that handles both IndexError and KeyError using a try-except block."
      ]
    },
    {
      "cell_type": "code",
      "execution_count": 4,
      "metadata": {},
      "outputs": [
        {
          "name": "stdout",
          "output_type": "stream",
          "text": [
            "Error: List index is out of range.\n"
          ]
        }
      ],
      "source": [
        "try:\n",
        "    # List and dictionary for testing\n",
        "    fruits = [\"apple\", \"banana\", \"cherry\"]\n",
        "    prices = {\"apple\": 30, \"banana\": 20}\n",
        "\n",
        "    # Accessing an invalid index\n",
        "    print(\"Fruit at index 5:\", fruits[5])\n",
        "\n",
        "    # Accessing a missing dictionary key\n",
        "    print(\"Price of orange:\", prices[\"orange\"])\n",
        "\n",
        "except IndexError:\n",
        "    print(\"Error: List index is out of range.\")\n",
        "\n",
        "except KeyError:\n",
        "    print(\"Error: Dictionary key not found.\")\n"
      ]
    },
    {
      "cell_type": "markdown",
      "metadata": {},
      "source": [
        "20. How would you open a file and read its contents using a context manager in Python."
      ]
    },
    {
      "cell_type": "code",
      "execution_count": 5,
      "metadata": {},
      "outputs": [
        {
          "name": "stdout",
          "output_type": "stream",
          "text": [
            "Hello, this is a test file.\n",
            "This line is appended to the file.\n"
          ]
        }
      ],
      "source": [
        "# Open and read the file using 'with'\n",
        "with open(\"example.txt\", \"r\") as file:\n",
        "    content = file.read()\n",
        "    print(content)\n"
      ]
    },
    {
      "cell_type": "markdown",
      "metadata": {},
      "source": [
        "21 Write a Python program that reads a file and prints the number of occurrences of a specific word."
      ]
    },
    {
      "cell_type": "code",
      "execution_count": 8,
      "metadata": {},
      "outputs": [
        {
          "name": "stdout",
          "output_type": "stream",
          "text": [
            "The word 'python' occurs 0 times in 'example.txt'.\n"
          ]
        }
      ],
      "source": [
        "import re\n",
        "\n",
        "# Function to count word occurrences\n",
        "def count_word_occurrences(filename, word_to_count):\n",
        "    try:\n",
        "        with open(filename, \"r\") as file:\n",
        "            content = file.read().lower()  # Read and convert to lowercase\n",
        "\n",
        "            # Use regex to find whole word matches\n",
        "            words = re.findall(r'\\b' + re.escape(word_to_count.lower()) + r'\\b', content)\n",
        "\n",
        "            count = len(words)\n",
        "            print(f\"The word '{word_to_count}' occurs {count} times in '{filename}'.\")\n",
        "    except FileNotFoundError:\n",
        "        print(f\"Error: The file '{filename}' was not found.\")\n",
        "    except Exception as e:\n",
        "        print(f\"An error occurred: {e}\")\n",
        "\n",
        "# Example usage\n",
        "filename = \"example.txt\"\n",
        "word_to_count = \"python\"\n",
        "count_word_occurrences(filename, word_to_count)\n"
      ]
    },
    {
      "cell_type": "markdown",
      "metadata": {},
      "source": [
        "22.  How can you check if a file is empty before attempting to read its contents."
      ]
    },
    {
      "cell_type": "code",
      "execution_count": 9,
      "metadata": {},
      "outputs": [
        {
          "name": "stdout",
          "output_type": "stream",
          "text": [
            "File content:\n",
            " Hello, this is a test file.\n",
            "This line is appended to the file.\n"
          ]
        }
      ],
      "source": [
        "import os\n",
        "\n",
        "filename = \"example.txt\"\n",
        "\n",
        "if os.path.exists(filename):\n",
        "    if os.path.getsize(filename) == 0:\n",
        "        print(f\"The file '{filename}' is empty.\")\n",
        "    else:\n",
        "        with open(filename, \"r\") as file:\n",
        "            content = file.read()\n",
        "            print(\"File content:\\n\", content)\n",
        "else:\n",
        "    print(f\"The file '{filename}' does not exist.\")\n"
      ]
    },
    {
      "cell_type": "markdown",
      "metadata": {},
      "source": [
        "23. Write a Python program that writes to a log file when an error occurs during file handling."
      ]
    },
    {
      "cell_type": "code",
      "execution_count": 10,
      "metadata": {},
      "outputs": [
        {
          "name": "stdout",
          "output_type": "stream",
          "text": [
            "Error: The file 'data.txt' was not found. Check log for details.\n"
          ]
        }
      ],
      "source": [
        "import logging\n",
        "\n",
        "# Set up logging configuration\n",
        "logging.basicConfig(\n",
        "    filename='file_errors.log',         # Log file name\n",
        "    level=logging.ERROR,                # Log only ERROR and above\n",
        "    format='%(asctime)s - %(levelname)s - %(message)s'\n",
        ")\n",
        "\n",
        "filename = \"data.txt\"\n",
        "\n",
        "try:\n",
        "    with open(filename, \"r\") as file:\n",
        "        content = file.read()\n",
        "        print(\"File content:\\n\", content)\n",
        "\n",
        "except FileNotFoundError as e:\n",
        "    logging.error(\"FileNotFoundError: %s\", e)\n",
        "    print(f\"Error: The file '{filename}' was not found. Check log for details.\")\n",
        "\n",
        "except PermissionError as e:\n",
        "    logging.error(\"PermissionError: %s\", e)\n",
        "    print(f\"Error: Permission denied for '{filename}'. Check log for details.\")\n",
        "\n",
        "except Exception as e:\n",
        "    logging.error(\"Unexpected error: %s\", e)\n",
        "    print(f\"An unexpected error occurred. Check log for details.\")\n"
      ]
    }
  ],
  "metadata": {
    "colab": {
      "provenance": []
    },
    "kernelspec": {
      "display_name": "Python (pandas_env)",
      "language": "python",
      "name": "pandas_env"
    },
    "language_info": {
      "codemirror_mode": {
        "name": "ipython",
        "version": 3
      },
      "file_extension": ".py",
      "mimetype": "text/x-python",
      "name": "python",
      "nbconvert_exporter": "python",
      "pygments_lexer": "ipython3",
      "version": "3.11.13"
    }
  },
  "nbformat": 4,
  "nbformat_minor": 0
}
